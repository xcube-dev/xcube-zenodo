{
 "cells": [
  {
   "cell_type": "markdown",
   "metadata": {},
   "source": [
    "# This notebook gives an introduction to the xcube's \"zenodo\" data store\n",
    "\n",
    "This notebook shows an example how to access a TIF and a NetCDF published on the [https://zenodo.org](https://zenodo.org) webpage. \n",
    "\n",
    "### Setup\n",
    "In order to run this notebook you need to get an access token for the Zenodo API following the [documentation](https://zenodo.org/login/?next=%2Faccount%2Fsettings%2Fapplications%2Ftokens%2Fnew%2F). Furthermore, make sure that [`xcube_zenodo`](https://github.com/xcube-dev/xcube-zenodo) is installed. You may install [`xcube_zenodo`](https://github.com/xcube-dev/xcube-zenodo) directly from the git repository by cloning the repository, directing into `xcube-zenodo`, and following the steps below:\n",
    "\n",
    "```bash\n",
    "conda env create -f environment.yml\n",
    "conda activate xcube-zenodo\n",
    "pip install .\n",
    "```\n",
    "\n",
    "Note that [`xcube_zenodo`](https://github.com/xcube-dev/xcube-zenodo) is a plugin of [`xcube`](https://xcube.readthedocs.io/en/latest/), where `xcube` is included in the `environment.yml`.  \n",
    "\n",
    "Now, we first import everything we need:"
   ]
  },
  {
   "cell_type": "code",
   "execution_count": 1,
   "metadata": {},
   "outputs": [
    {
     "name": "stdout",
     "output_type": "stream",
     "text": [
      "CPU times: user 7.59 s, sys: 1.06 s, total: 8.65 s\n",
      "Wall time: 7.56 s\n"
     ]
    }
   ],
   "source": [
    "%%time\n",
    "from xcube.core.store import new_data_store\n",
    "from xcube.core.store import get_data_store_params_schema"
   ]
  },
  {
   "cell_type": "markdown",
   "metadata": {},
   "source": [
    "First, we get the store parameters needed to initialize a zenodo [data store](https://xcube.readthedocs.io/en/latest/dataaccess.html#data-store-framework). "
   ]
  },
  {
   "cell_type": "code",
   "execution_count": 2,
   "metadata": {},
   "outputs": [
    {
     "name": "stdout",
     "output_type": "stream",
     "text": [
      "CPU times: user 188 ms, sys: 30.3 ms, total: 218 ms\n",
      "Wall time: 218 ms\n"
     ]
    },
    {
     "data": {
      "application/json": {
       "additionalProperties": false,
       "properties": {
        "cache_store_id": {
         "default": "file",
         "description": "Store ID of a file-based data store implement in xcube.",
         "title": "Store ID of cache data store.",
         "type": "string"
        },
        "cache_store_params": {
         "default": {
          "max_depth": 3,
          "root": "zenodo_cache"
         },
         "description": "Store parameters of a file-based data store implement in xcube.",
         "properties": {},
         "title": "Store parameters of cache data store.",
         "type": "object"
        }
       },
       "type": "object"
      },
      "text/plain": [
       "<xcube.util.jsonschema.JsonObjectSchema at 0x762af8b03440>"
      ]
     },
     "execution_count": 2,
     "metadata": {},
     "output_type": "execute_result"
    }
   ],
   "source": [
    "%%time\n",
    "store_params = get_data_store_params_schema(\"zenodo\")\n",
    "store_params"
   ]
  },
  {
   "cell_type": "markdown",
   "metadata": {},
   "source": [
    "We initiate a zenodo [data store](https://xcube.readthedocs.io/en/latest/dataaccess.html#data-store-framework). Note that the `xcube-zenodo` plugin is recognized after installation by setting the first argument to `\"zenodo\"` in the `new_data_store` function."
   ]
  },
  {
   "cell_type": "code",
   "execution_count": 3,
   "metadata": {},
   "outputs": [
    {
     "name": "stdout",
     "output_type": "stream",
     "text": [
      "CPU times: user 28.5 ms, sys: 2.96 ms, total: 31.4 ms\n",
      "Wall time: 31.4 ms\n"
     ]
    }
   ],
   "source": [
    "%%time\n",
    "store = new_data_store(\"zenodo\")"
   ]
  },
  {
   "cell_type": "markdown",
   "metadata": {},
   "source": [
    "The data IDs are set to `\"<record_id>/<file_name>\"`. For example for the [Canopy height and biomass map for Europe](https://zenodo.org/records/8154445) the data ID for the dataset \"planet_canopy_cover_30m_v0.1.tif\" will be given by `\"8154445/planet_canopy_cover_30m_v0.1.tif\"`. The record ID can be found in the url of the zenodo page."
   ]
  },
  {
   "cell_type": "markdown",
   "metadata": {},
   "source": [
    "After selection of a specific dataset, we can describe the dataset using the `describe_data` method.  "
   ]
  },
  {
   "cell_type": "code",
   "execution_count": 4,
   "metadata": {},
   "outputs": [
    {
     "ename": "DataStoreError",
     "evalue": "Data resource \"records/8154445/files/planet_canopy_cover_30m_v0.1.tif\" does not exist in store",
     "output_type": "error",
     "traceback": [
      "\u001b[0;31m---------------------------------------------------------------------------\u001b[0m",
      "\u001b[0;31mDataStoreError\u001b[0m                            Traceback (most recent call last)",
      "Cell \u001b[0;32mIn[4], line 1\u001b[0m\n\u001b[0;32m----> 1\u001b[0m \u001b[43mstore\u001b[49m\u001b[38;5;241;43m.\u001b[39;49m\u001b[43mdescribe_data\u001b[49m\u001b[43m(\u001b[49m\u001b[38;5;124;43m\"\u001b[39;49m\u001b[38;5;124;43m8154445/planet_canopy_cover_30m_v0.1.tif\u001b[39;49m\u001b[38;5;124;43m\"\u001b[39;49m\u001b[43m)\u001b[49m\n",
      "File \u001b[0;32m~/micromamba/envs/xcube-zenodo/lib/python3.12/site-packages/xcube_zenodo/store.py:111\u001b[0m, in \u001b[0;36mZenodoDataStore.describe_data\u001b[0;34m(self, data_id, data_type)\u001b[0m\n\u001b[1;32m    107\u001b[0m \u001b[38;5;28;01mdef\u001b[39;00m\u001b[38;5;250m \u001b[39m\u001b[38;5;21mdescribe_data\u001b[39m(\n\u001b[1;32m    108\u001b[0m     \u001b[38;5;28mself\u001b[39m, data_id: \u001b[38;5;28mstr\u001b[39m, data_type: DataTypeLike \u001b[38;5;241m=\u001b[39m \u001b[38;5;28;01mNone\u001b[39;00m\n\u001b[1;32m    109\u001b[0m ) \u001b[38;5;241m-\u001b[39m\u001b[38;5;241m>\u001b[39m DataDescriptor:\n\u001b[1;32m    110\u001b[0m     uri \u001b[38;5;241m=\u001b[39m translate_data_id2fs_path(data_id)\n\u001b[0;32m--> 111\u001b[0m     descriptor \u001b[38;5;241m=\u001b[39m \u001b[38;5;28;43mself\u001b[39;49m\u001b[38;5;241;43m.\u001b[39;49m\u001b[43m_https_data_store\u001b[49m\u001b[38;5;241;43m.\u001b[39;49m\u001b[43mdescribe_data\u001b[49m\u001b[43m(\u001b[49m\n\u001b[1;32m    112\u001b[0m \u001b[43m        \u001b[49m\u001b[43mdata_id\u001b[49m\u001b[38;5;241;43m=\u001b[39;49m\u001b[43muri\u001b[49m\u001b[43m,\u001b[49m\u001b[43m \u001b[49m\u001b[43mdata_type\u001b[49m\u001b[38;5;241;43m=\u001b[39;49m\u001b[43mdata_type\u001b[49m\n\u001b[1;32m    113\u001b[0m \u001b[43m    \u001b[49m\u001b[43m)\u001b[49m\n\u001b[1;32m    114\u001b[0m     descriptor\u001b[38;5;241m.\u001b[39mdata_id \u001b[38;5;241m=\u001b[39m data_id\n\u001b[1;32m    115\u001b[0m     \u001b[38;5;28;01mreturn\u001b[39;00m descriptor\n",
      "File \u001b[0;32m~/micromamba/envs/xcube-zenodo/lib/python3.12/site-packages/xcube/core/store/fs/store.py:286\u001b[0m, in \u001b[0;36mBaseFsDataStore.describe_data\u001b[0;34m(self, data_id, data_type)\u001b[0m\n\u001b[1;32m    283\u001b[0m \u001b[38;5;28;01mdef\u001b[39;00m\u001b[38;5;250m \u001b[39m\u001b[38;5;21mdescribe_data\u001b[39m(\n\u001b[1;32m    284\u001b[0m     \u001b[38;5;28mself\u001b[39m, data_id: \u001b[38;5;28mstr\u001b[39m, data_type: DataTypeLike \u001b[38;5;241m=\u001b[39m \u001b[38;5;28;01mNone\u001b[39;00m\n\u001b[1;32m    285\u001b[0m ) \u001b[38;5;241m-\u001b[39m\u001b[38;5;241m>\u001b[39m DataDescriptor:\n\u001b[0;32m--> 286\u001b[0m     \u001b[38;5;28;43mself\u001b[39;49m\u001b[38;5;241;43m.\u001b[39;49m\u001b[43m_assert_valid_data_id\u001b[49m\u001b[43m(\u001b[49m\u001b[43mdata_id\u001b[49m\u001b[43m)\u001b[49m\n\u001b[1;32m    287\u001b[0m     \u001b[38;5;28mself\u001b[39m\u001b[38;5;241m.\u001b[39m_assert_data_specified(data_id, data_type)\n\u001b[1;32m    288\u001b[0m     \u001b[38;5;66;03m# TODO: optimize me, self.open_data() may be very slow!\u001b[39;00m\n\u001b[1;32m    289\u001b[0m     \u001b[38;5;66;03m#   For Zarr, try using self.fs to load metadata only\u001b[39;00m\n\u001b[1;32m    290\u001b[0m     \u001b[38;5;66;03m#   rather than instantiating xr.Dataset instances which\u001b[39;00m\n\u001b[1;32m    291\u001b[0m     \u001b[38;5;66;03m#   can be very expensive for large Zarrs (xarray 0.18.2),\u001b[39;00m\n\u001b[1;32m    292\u001b[0m     \u001b[38;5;66;03m#   especially in S3 filesystems.\u001b[39;00m\n",
      "File \u001b[0;32m~/micromamba/envs/xcube-zenodo/lib/python3.12/site-packages/xcube/core/store/fs/store.py:542\u001b[0m, in \u001b[0;36mBaseFsDataStore._assert_valid_data_id\u001b[0;34m(self, data_id)\u001b[0m\n\u001b[1;32m    540\u001b[0m \u001b[38;5;28;01mdef\u001b[39;00m\u001b[38;5;250m \u001b[39m\u001b[38;5;21m_assert_valid_data_id\u001b[39m(\u001b[38;5;28mself\u001b[39m, data_id):\n\u001b[1;32m    541\u001b[0m     \u001b[38;5;28;01mif\u001b[39;00m \u001b[38;5;129;01mnot\u001b[39;00m \u001b[38;5;28mself\u001b[39m\u001b[38;5;241m.\u001b[39mhas_data(data_id):\n\u001b[0;32m--> 542\u001b[0m         \u001b[38;5;28;01mraise\u001b[39;00m DataStoreError(\n\u001b[1;32m    543\u001b[0m             \u001b[38;5;124mf\u001b[39m\u001b[38;5;124m'\u001b[39m\u001b[38;5;124mData resource \u001b[39m\u001b[38;5;124m\"\u001b[39m\u001b[38;5;132;01m{\u001b[39;00mdata_id\u001b[38;5;132;01m}\u001b[39;00m\u001b[38;5;124m\"\u001b[39m\u001b[38;5;124m'\u001b[39m \u001b[38;5;124mf\u001b[39m\u001b[38;5;124m\"\u001b[39m\u001b[38;5;124m does not exist in store\u001b[39m\u001b[38;5;124m\"\u001b[39m\n\u001b[1;32m    544\u001b[0m         )\n",
      "\u001b[0;31mDataStoreError\u001b[0m: Data resource \"records/8154445/files/planet_canopy_cover_30m_v0.1.tif\" does not exist in store"
     ]
    }
   ],
   "source": [
    "store.describe_data(\"8154445/planet_canopy_cover_30m_v0.1.tif\")"
   ]
  },
  {
   "cell_type": "markdown",
   "metadata": {},
   "source": [
    "Next we can open the data. We can first view the available opening parameters, which can be added to the `open_data` method in the subsequent cell. "
   ]
  },
  {
   "cell_type": "code",
   "execution_count": null,
   "metadata": {},
   "outputs": [],
   "source": [
    "%%time\n",
    "open_params = store.get_open_data_params_schema(data_id=\"8154445/planet_canopy_cover_30m_v0.1.tif\")\n",
    "open_params"
   ]
  },
  {
   "cell_type": "code",
   "execution_count": null,
   "metadata": {},
   "outputs": [],
   "source": [
    "%%time\n",
    "ds = store.open_data(\n",
    "    \"8154445/planet_canopy_cover_30m_v0.1.tif\",\n",
    "    tile_size=(1024, 1024)\n",
    ")\n",
    "ds"
   ]
  },
  {
   "cell_type": "markdown",
   "metadata": {},
   "source": [
    "We plot parts of the opened data as an example below. The data shows the canopy cover fraction within a range of [0, 100]. "
   ]
  },
  {
   "cell_type": "code",
   "execution_count": null,
   "metadata": {},
   "outputs": [],
   "source": [
    "%%time\n",
    "ds.band_1[100000:102000, 100000:102000].plot(vmin=0, vmax=100)"
   ]
  },
  {
   "cell_type": "markdown",
   "metadata": {},
   "source": [
    "We can also open a TIFF as a [xcube's multi-resolution  dataset](https://xcube.readthedocs.io/en/latest/mldatasets.html#xcube-multi-resolution-datasets), where we can select the level of resolution. The opened dataset however is not cloud optimized and thus consists of only one level.   "
   ]
  },
  {
   "cell_type": "code",
   "execution_count": null,
   "metadata": {},
   "outputs": [],
   "source": [
    "%%time\n",
    "mlds = store.open_data(\n",
    "    \"8154445/planet_canopy_cover_30m_v0.1.tif\",\n",
    "    tile_size=(1024, 1024),\n",
    "    data_type=\"mldataset\"\n",
    ")\n",
    "mlds.num_levels"
   ]
  },
  {
   "cell_type": "code",
   "execution_count": null,
   "metadata": {},
   "outputs": [],
   "source": [
    "ds = mlds.get_dataset(0)\n",
    "ds"
   ]
  },
  {
   "cell_type": "markdown",
   "metadata": {},
   "source": [
    "---"
   ]
  },
  {
   "cell_type": "markdown",
   "metadata": {},
   "source": [
    "We can also use the zenodo data store to open NetCDF files as shown in the following cells. Note if `chunks` are given, the data set is loaded lazily as a [chunked xr.Dataset](https://xarray.pydata.org/en/v0.10.2/dask.html)."
   ]
  },
  {
   "cell_type": "code",
   "execution_count": null,
   "metadata": {},
   "outputs": [],
   "source": [
    "%%time\n",
    "ds = store.open_data(\n",
    "    \"13882297/gridded_tidestats_ERA5weather.nc\",\n",
    "    chunks={}\n",
    ")\n",
    "ds"
   ]
  },
  {
   "cell_type": "markdown",
   "metadata": {},
   "source": [
    "We plot the Mean Low Water (MLW) data as an example. "
   ]
  },
  {
   "cell_type": "code",
   "execution_count": null,
   "metadata": {},
   "outputs": [],
   "source": [
    "%%time\n",
    "ds.MLW.plot()"
   ]
  }
 ],
 "metadata": {
  "kernelspec": {
   "display_name": "Python 3 (ipykernel)",
   "language": "python",
   "name": "python3"
  },
  "language_info": {
   "codemirror_mode": {
    "name": "ipython",
    "version": 3
   },
   "file_extension": ".py",
   "mimetype": "text/x-python",
   "name": "python",
   "nbconvert_exporter": "python",
   "pygments_lexer": "ipython3",
   "version": "3.12.8"
  }
 },
 "nbformat": 4,
 "nbformat_minor": 4
}
