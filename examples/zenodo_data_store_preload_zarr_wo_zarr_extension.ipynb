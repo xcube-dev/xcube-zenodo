{
 "cells": [
  {
   "cell_type": "markdown",
   "metadata": {},
   "source": [
    "# This notebook gives an introduction to the xcube's \"zenodo\" data store and its preload_data method\n",
    "\n",
    "This notebook shows an example how to preload a Zarr file, which is published in compressed zip format on the [https://zenodo.org](https://zenodo.org) webpage, where the zarr extension is missing. The compressed file will be downloaded, unpacked and the the Zarr files will be made available, which can be subsequently used by the data store as usual. \n",
    "\n",
    "### Setup\n",
    "In order to run this notebook, you need to install [`xcube_zenodo`](https://github.com/xcube-dev/xcube-zenodo). You may install [`xcube_zenodo`](https://github.com/xcube-dev/xcube-zenodo) directly from the git repository by cloning the repository, directing into `xcube-zenodo`, and following the steps below:\n",
    "\n",
    "```bash\n",
    "conda env create -f environment.yml\n",
    "conda activate xcube-zenodo\n",
    "pip install .\n",
    "```\n",
    "\n",
    "Note that [`xcube_zenodo`](https://github.com/xcube-dev/xcube-zenodo) is a plugin of [`xcube`](https://xcube.readthedocs.io/en/latest/), where `xcube` is included in the `environment.yml`.  \n",
    "\n",
    "Now, we first import everything we need:"
   ]
  },
  {
   "cell_type": "code",
   "execution_count": 1,
   "metadata": {},
   "outputs": [
    {
     "name": "stdout",
     "output_type": "stream",
     "text": [
      "CPU times: user 3.15 s, sys: 264 ms, total: 3.42 s\n",
      "Wall time: 1.57 s\n"
     ]
    }
   ],
   "source": [
    "%%time\n",
    "from xcube.core.store import new_data_store\n",
    "from xcube.core.store import get_data_store_params_schema"
   ]
  },
  {
   "cell_type": "markdown",
   "metadata": {},
   "source": [
    "First, we get the store parameters needed to initialize a zenodo [data store](https://xcube.readthedocs.io/en/latest/dataaccess.html#data-store-framework). "
   ]
  },
  {
   "cell_type": "code",
   "execution_count": 2,
   "metadata": {},
   "outputs": [
    {
     "name": "stdout",
     "output_type": "stream",
     "text": [
      "CPU times: user 46.7 ms, sys: 11 ms, total: 57.7 ms\n",
      "Wall time: 57.9 ms\n"
     ]
    },
    {
     "data": {
      "application/json": {
       "additionalProperties": false,
       "properties": {
        "cache_store_id": {
         "default": "file",
         "description": "Store ID of a filesystem-based data store implemented in xcube.",
         "title": "Store ID of cache data store.",
         "type": "string"
        },
        "cache_store_params": {
         "default": {
          "max_depth": 3,
          "root": "zenodo_cache"
         },
         "description": "Store parameters of a filesystem-based data storeimplemented in xcube.",
         "properties": {},
         "title": "Store parameters of cache data store.",
         "type": "object"
        }
       },
       "type": "object"
      },
      "text/plain": [
       "<xcube.util.jsonschema.JsonObjectSchema at 0x7fa82c407530>"
      ]
     },
     "execution_count": 2,
     "metadata": {},
     "output_type": "execute_result"
    }
   ],
   "source": [
    "%%time\n",
    "store_params = get_data_store_params_schema(\"zenodo\")\n",
    "store_params"
   ]
  },
  {
   "cell_type": "markdown",
   "metadata": {},
   "source": [
    "We initiate a zenodo [data store](https://xcube.readthedocs.io/en/latest/dataaccess.html#data-store-framework). Note that the `xcube-zenodo` plugin is recognized after installation by setting the first argument to `\"zenodo\"` in the `new_data_store` function. We can optionally specify the cache data store's ID and parameters using the `cache_store_id` and `cache_store_params` keyword arguments. By default, `cache_store_id` is set to `file`, and `cache_store_params` defaults to `dict(root=\"zenodo_cache\", max_depth=3)`."
   ]
  },
  {
   "cell_type": "code",
   "execution_count": 3,
   "metadata": {},
   "outputs": [
    {
     "name": "stdout",
     "output_type": "stream",
     "text": [
      "CPU times: user 8.2 ms, sys: 0 ns, total: 8.2 ms\n",
      "Wall time: 8.12 ms\n"
     ]
    }
   ],
   "source": [
    "%%time\n",
    "store = new_data_store(\"zenodo\")"
   ]
  },
  {
   "cell_type": "markdown",
   "metadata": {},
   "source": [
    "Compressed files can be preloaded using the `preload_data` method. This approach enables the downloading of compressed files that cannot be lazily loaded, allowing them to be stored and readily available for the duration of the project. Also this method uses `preload_params`, which can be viewed in the next cell."
   ]
  },
  {
   "cell_type": "code",
   "execution_count": 4,
   "metadata": {},
   "outputs": [
    {
     "name": "stdout",
     "output_type": "stream",
     "text": [
      "CPU times: user 60 μs, sys: 6 μs, total: 66 μs\n",
      "Wall time: 71 μs\n"
     ]
    },
    {
     "data": {
      "application/json": {
       "additionalProperties": false,
       "properties": {
        "blocking": {
         "default": true,
         "description": "If True, the preloading process blocks the script.",
         "title": "Swich to block the preloading process.",
         "type": "boolean"
        },
        "silent": {
         "default": true,
         "description": "If False, the preloading progress will be visualized in a table.If True, the visualization will be suppressed.",
         "title": "Switch to visual the preloading process.",
         "type": "boolean"
        }
       },
       "type": "object"
      },
      "text/plain": [
       "<xcube.util.jsonschema.JsonObjectSchema at 0x7fa82c483770>"
      ]
     },
     "execution_count": 4,
     "metadata": {},
     "output_type": "execute_result"
    }
   ],
   "source": [
    "%%time\n",
    "preload_params = store.get_preload_data_params()\n",
    "preload_params"
   ]
  },
  {
   "cell_type": "markdown",
   "metadata": {},
   "source": [
    "The `preload_data` method returns a handler which can be used to cancel the preload by typing `handler.cancel()` into the next cell. Note that the `preload_method` is new and highly experimental."
   ]
  },
  {
   "cell_type": "code",
   "execution_count": null,
   "metadata": {},
   "outputs": [
    {
     "data": {
      "application/vnd.jupyter.widget-view+json": {
       "model_id": "c9702b0b60a84c28a329ba894819eab1",
       "version_major": 2,
       "version_minor": 0
      },
      "text/plain": [
       "VBox(children=(HTML(value='<table>\\n<thead>\\n<tr><th>Data ID             </th><th>Status  </th><th>Progress  <…"
      ]
     },
     "metadata": {},
     "output_type": "display_data"
    }
   ],
   "source": [
    "handler = store.preload_data(\"7108392/seasfire.zip\")"
   ]
  },
  {
   "cell_type": "markdown",
   "metadata": {},
   "source": [
    "The data IDs can be viewed using the following line. The new data ID is identical to the original, except that the `.zip` extension indicating a compressed format has been removed and a `.zarr` extension has been added."
   ]
  },
  {
   "cell_type": "code",
   "execution_count": null,
   "metadata": {},
   "outputs": [],
   "source": [
    "store.cache_store.list_data_ids()"
   ]
  },
  {
   "cell_type": "markdown",
   "metadata": {},
   "source": [
    "Next we want to open one of the datasets. We first view the availbale parameters to open the data. "
   ]
  },
  {
   "cell_type": "code",
   "execution_count": null,
   "metadata": {},
   "outputs": [],
   "source": [
    "%%time\n",
    "open_params = store.get_open_data_params_schema(data_id=\"7108392/seasfire.zarr\")\n",
    "open_params"
   ]
  },
  {
   "cell_type": "code",
   "execution_count": null,
   "metadata": {},
   "outputs": [],
   "source": [
    "%%time\n",
    "ds = store.open_data(\"7108392/seasfire.zarr\")\n",
    "ds"
   ]
  },
  {
   "cell_type": "markdown",
   "metadata": {},
   "source": [
    "We plot the opened data at the last time step as an example below."
   ]
  },
  {
   "cell_type": "code",
   "execution_count": null,
   "metadata": {},
   "outputs": [],
   "source": [
    "%%time\n",
    "ds.cams_co2fire.isel(time=-1).plot()"
   ]
  }
 ],
 "metadata": {
  "kernelspec": {
   "display_name": "Python 3 (ipykernel)",
   "language": "python",
   "name": "python3"
  },
  "language_info": {
   "codemirror_mode": {
    "name": "ipython",
    "version": 3
   },
   "file_extension": ".py",
   "mimetype": "text/x-python",
   "name": "python",
   "nbconvert_exporter": "python",
   "pygments_lexer": "ipython3",
   "version": "3.12.8"
  }
 },
 "nbformat": 4,
 "nbformat_minor": 4
}
